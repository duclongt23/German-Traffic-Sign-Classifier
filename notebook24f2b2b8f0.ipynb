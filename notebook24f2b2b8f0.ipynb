{
 "cells": [
  {
   "cell_type": "markdown",
   "id": "e7b67e50",
   "metadata": {
    "papermill": {
     "duration": 0.002665,
     "end_time": "2025-09-14T14:22:32.043083",
     "exception": false,
     "start_time": "2025-09-14T14:22:32.040418",
     "status": "completed"
    },
    "tags": []
   },
   "source": [
    "**import important library**"
   ]
  },
  {
   "cell_type": "code",
   "execution_count": 1,
   "id": "16cd5c8a",
   "metadata": {
    "execution": {
     "iopub.execute_input": "2025-09-14T14:22:32.048946Z",
     "iopub.status.busy": "2025-09-14T14:22:32.048286Z",
     "iopub.status.idle": "2025-09-14T14:22:40.627839Z",
     "shell.execute_reply": "2025-09-14T14:22:40.627215Z"
    },
    "papermill": {
     "duration": 8.583773,
     "end_time": "2025-09-14T14:22:40.629264",
     "exception": false,
     "start_time": "2025-09-14T14:22:32.045491",
     "status": "completed"
    },
    "tags": []
   },
   "outputs": [],
   "source": [
    "import cv2\n",
    "import pandas as pd\n",
    "from torch.utils.data import Dataset\n",
    "from albumentations import (\n",
    "    Compose, RandomBrightnessContrast, HueSaturationValue,\n",
    "    ShiftScaleRotate, HorizontalFlip, Normalize, Resize \n",
    ") \n",
    "from albumentations.pytorch import ToTensorV2"
   ]
  },
  {
   "cell_type": "markdown",
   "id": "7f66ff67",
   "metadata": {
    "papermill": {
     "duration": 0.001851,
     "end_time": "2025-09-14T14:22:40.633337",
     "exception": false,
     "start_time": "2025-09-14T14:22:40.631486",
     "status": "completed"
    },
    "tags": []
   },
   "source": [
    "**Preprocess data**"
   ]
  },
  {
   "cell_type": "code",
   "execution_count": 2,
   "id": "b79bdc4d",
   "metadata": {
    "execution": {
     "iopub.execute_input": "2025-09-14T14:22:40.638317Z",
     "iopub.status.busy": "2025-09-14T14:22:40.637909Z",
     "iopub.status.idle": "2025-09-14T14:22:40.644361Z",
     "shell.execute_reply": "2025-09-14T14:22:40.643790Z"
    },
    "papermill": {
     "duration": 0.00996,
     "end_time": "2025-09-14T14:22:40.645312",
     "exception": false,
     "start_time": "2025-09-14T14:22:40.635352",
     "status": "completed"
    },
    "tags": []
   },
   "outputs": [],
   "source": [
    "IMG_SIZE = 224\n",
    "\n",
    "class GTSRBDataset(Dataset):\n",
    "    def __init__(self, csv_file, root_dir, img_size = IMG_SIZE, is_train = True):\n",
    "        self.df = pd.read_csv(csv_file)\n",
    "        self.root_dir = root_dir\n",
    "        self.img_size = img_size\n",
    "        self.is_train = is_train\n",
    "\n",
    "        if is_train:\n",
    "            self.tf = Compose([\n",
    "                Resize(img_size, img_size),\n",
    "                ShiftScaleRotate(shift_limit=0.06, scale_limit= 0.1, rotate_limit =15, p = 0.6),\n",
    "                RandomBrightnessContrast(p=0.5),\n",
    "                HueSaturationValue(p=0.4),\n",
    "                HorizontalFlip(p=0.2),\n",
    "                Normalize(mean=(0.485,0.456,0.406), std=(0.229,0.224,0.225)),\n",
    "                ToTensorV2()\n",
    "            ])\n",
    "        else:\n",
    "            self.tf = Compose([\n",
    "                Resize(img_size, img_size),\n",
    "                Normalize(mean=(0.485,0.456,0.406), std=(0.229,0.224,0.225)),\n",
    "                ToTensorV2()\n",
    "            ])\n",
    "\n",
    "    def __len__(self):\n",
    "        return len(self.df)\n",
    "\n",
    "    def __getitem__(self, idx):\n",
    "        row = self.df.iloc[idx]\n",
    "        img_path = os.path.join(root_dir, row[\"Path\"])\n",
    "        img = cv2.imread(img_path)\n",
    "        img = cv2.cvtColor(img, cv2.COLOR_BGR2RGB)\n",
    "\n",
    "        label = row[\"ClassId\"]\n",
    "        img = self.tf(image = img)['image']\n",
    "        return img, label"
   ]
  },
  {
   "cell_type": "code",
   "execution_count": 3,
   "id": "b0515331",
   "metadata": {
    "execution": {
     "iopub.execute_input": "2025-09-14T14:22:40.649773Z",
     "iopub.status.busy": "2025-09-14T14:22:40.649590Z",
     "iopub.status.idle": "2025-09-14T14:22:46.726743Z",
     "shell.execute_reply": "2025-09-14T14:22:46.726121Z"
    },
    "papermill": {
     "duration": 6.080839,
     "end_time": "2025-09-14T14:22:46.728109",
     "exception": false,
     "start_time": "2025-09-14T14:22:40.647270",
     "status": "completed"
    },
    "tags": []
   },
   "outputs": [],
   "source": [
    "import torch\n",
    "import torch.nn as nn\n",
    "import torchvision.models as models\n",
    "\n",
    "def build_model(n_classes = 43, backbone = 'resnet18', pretrained = True):\n",
    "    if backbone == 'resnet18':\n",
    "        model = models.resnet18(weights=models.ResNet18_Weights.DEFAULT if pretrained else None)\n",
    "        in_f = model.fc.in_features\n",
    "        model.fc = nn.Sequential(\n",
    "            nn.Linear(in_f, 256),\n",
    "            nn.ReLU(inplace=True),\n",
    "            nn.Dropout(0.3),\n",
    "            nn.Linear(256, n_classes)\n",
    "        )\n",
    "        return model\n",
    "    else:\n",
    "        raise ValueError(\"Unsupported backbone\")"
   ]
  },
  {
   "cell_type": "markdown",
   "id": "e09c9464",
   "metadata": {
    "papermill": {
     "duration": 0.001699,
     "end_time": "2025-09-14T14:22:46.731946",
     "exception": false,
     "start_time": "2025-09-14T14:22:46.730247",
     "status": "completed"
    },
    "tags": []
   },
   "source": [
    "**Train & Validate**"
   ]
  },
  {
   "cell_type": "code",
   "execution_count": 4,
   "id": "13f9b904",
   "metadata": {
    "execution": {
     "iopub.execute_input": "2025-09-14T14:22:46.736747Z",
     "iopub.status.busy": "2025-09-14T14:22:46.736362Z",
     "iopub.status.idle": "2025-09-14T14:22:47.595185Z",
     "shell.execute_reply": "2025-09-14T14:22:47.594289Z"
    },
    "papermill": {
     "duration": 0.862775,
     "end_time": "2025-09-14T14:22:47.596544",
     "exception": false,
     "start_time": "2025-09-14T14:22:46.733769",
     "status": "completed"
    },
    "tags": []
   },
   "outputs": [
    {
     "name": "stderr",
     "output_type": "stream",
     "text": [
      "/usr/local/lib/python3.11/dist-packages/albumentations/core/validation.py:114: UserWarning: ShiftScaleRotate is a special case of Affine transform. Please use Affine transform instead.\n",
      "  original_init(self, **validated_kwargs)\n",
      "Downloading: \"https://download.pytorch.org/models/resnet18-f37072fd.pth\" to /root/.cache/torch/hub/checkpoints/resnet18-f37072fd.pth\n",
      "100%|██████████| 44.7M/44.7M [00:00<00:00, 220MB/s]\n",
      "/tmp/ipykernel_19/1123934952.py:46: FutureWarning: `torch.cuda.amp.GradScaler(args...)` is deprecated. Please use `torch.amp.GradScaler('cuda', args...)` instead.\n",
      "  scaler = torch.cuda.amp.GradScaler() if device=='cuda' else None\n"
     ]
    },
    {
     "data": {
      "text/plain": [
       "ResNet(\n",
       "  (conv1): Conv2d(3, 64, kernel_size=(7, 7), stride=(2, 2), padding=(3, 3), bias=False)\n",
       "  (bn1): BatchNorm2d(64, eps=1e-05, momentum=0.1, affine=True, track_running_stats=True)\n",
       "  (relu): ReLU(inplace=True)\n",
       "  (maxpool): MaxPool2d(kernel_size=3, stride=2, padding=1, dilation=1, ceil_mode=False)\n",
       "  (layer1): Sequential(\n",
       "    (0): BasicBlock(\n",
       "      (conv1): Conv2d(64, 64, kernel_size=(3, 3), stride=(1, 1), padding=(1, 1), bias=False)\n",
       "      (bn1): BatchNorm2d(64, eps=1e-05, momentum=0.1, affine=True, track_running_stats=True)\n",
       "      (relu): ReLU(inplace=True)\n",
       "      (conv2): Conv2d(64, 64, kernel_size=(3, 3), stride=(1, 1), padding=(1, 1), bias=False)\n",
       "      (bn2): BatchNorm2d(64, eps=1e-05, momentum=0.1, affine=True, track_running_stats=True)\n",
       "    )\n",
       "    (1): BasicBlock(\n",
       "      (conv1): Conv2d(64, 64, kernel_size=(3, 3), stride=(1, 1), padding=(1, 1), bias=False)\n",
       "      (bn1): BatchNorm2d(64, eps=1e-05, momentum=0.1, affine=True, track_running_stats=True)\n",
       "      (relu): ReLU(inplace=True)\n",
       "      (conv2): Conv2d(64, 64, kernel_size=(3, 3), stride=(1, 1), padding=(1, 1), bias=False)\n",
       "      (bn2): BatchNorm2d(64, eps=1e-05, momentum=0.1, affine=True, track_running_stats=True)\n",
       "    )\n",
       "  )\n",
       "  (layer2): Sequential(\n",
       "    (0): BasicBlock(\n",
       "      (conv1): Conv2d(64, 128, kernel_size=(3, 3), stride=(2, 2), padding=(1, 1), bias=False)\n",
       "      (bn1): BatchNorm2d(128, eps=1e-05, momentum=0.1, affine=True, track_running_stats=True)\n",
       "      (relu): ReLU(inplace=True)\n",
       "      (conv2): Conv2d(128, 128, kernel_size=(3, 3), stride=(1, 1), padding=(1, 1), bias=False)\n",
       "      (bn2): BatchNorm2d(128, eps=1e-05, momentum=0.1, affine=True, track_running_stats=True)\n",
       "      (downsample): Sequential(\n",
       "        (0): Conv2d(64, 128, kernel_size=(1, 1), stride=(2, 2), bias=False)\n",
       "        (1): BatchNorm2d(128, eps=1e-05, momentum=0.1, affine=True, track_running_stats=True)\n",
       "      )\n",
       "    )\n",
       "    (1): BasicBlock(\n",
       "      (conv1): Conv2d(128, 128, kernel_size=(3, 3), stride=(1, 1), padding=(1, 1), bias=False)\n",
       "      (bn1): BatchNorm2d(128, eps=1e-05, momentum=0.1, affine=True, track_running_stats=True)\n",
       "      (relu): ReLU(inplace=True)\n",
       "      (conv2): Conv2d(128, 128, kernel_size=(3, 3), stride=(1, 1), padding=(1, 1), bias=False)\n",
       "      (bn2): BatchNorm2d(128, eps=1e-05, momentum=0.1, affine=True, track_running_stats=True)\n",
       "    )\n",
       "  )\n",
       "  (layer3): Sequential(\n",
       "    (0): BasicBlock(\n",
       "      (conv1): Conv2d(128, 256, kernel_size=(3, 3), stride=(2, 2), padding=(1, 1), bias=False)\n",
       "      (bn1): BatchNorm2d(256, eps=1e-05, momentum=0.1, affine=True, track_running_stats=True)\n",
       "      (relu): ReLU(inplace=True)\n",
       "      (conv2): Conv2d(256, 256, kernel_size=(3, 3), stride=(1, 1), padding=(1, 1), bias=False)\n",
       "      (bn2): BatchNorm2d(256, eps=1e-05, momentum=0.1, affine=True, track_running_stats=True)\n",
       "      (downsample): Sequential(\n",
       "        (0): Conv2d(128, 256, kernel_size=(1, 1), stride=(2, 2), bias=False)\n",
       "        (1): BatchNorm2d(256, eps=1e-05, momentum=0.1, affine=True, track_running_stats=True)\n",
       "      )\n",
       "    )\n",
       "    (1): BasicBlock(\n",
       "      (conv1): Conv2d(256, 256, kernel_size=(3, 3), stride=(1, 1), padding=(1, 1), bias=False)\n",
       "      (bn1): BatchNorm2d(256, eps=1e-05, momentum=0.1, affine=True, track_running_stats=True)\n",
       "      (relu): ReLU(inplace=True)\n",
       "      (conv2): Conv2d(256, 256, kernel_size=(3, 3), stride=(1, 1), padding=(1, 1), bias=False)\n",
       "      (bn2): BatchNorm2d(256, eps=1e-05, momentum=0.1, affine=True, track_running_stats=True)\n",
       "    )\n",
       "  )\n",
       "  (layer4): Sequential(\n",
       "    (0): BasicBlock(\n",
       "      (conv1): Conv2d(256, 512, kernel_size=(3, 3), stride=(2, 2), padding=(1, 1), bias=False)\n",
       "      (bn1): BatchNorm2d(512, eps=1e-05, momentum=0.1, affine=True, track_running_stats=True)\n",
       "      (relu): ReLU(inplace=True)\n",
       "      (conv2): Conv2d(512, 512, kernel_size=(3, 3), stride=(1, 1), padding=(1, 1), bias=False)\n",
       "      (bn2): BatchNorm2d(512, eps=1e-05, momentum=0.1, affine=True, track_running_stats=True)\n",
       "      (downsample): Sequential(\n",
       "        (0): Conv2d(256, 512, kernel_size=(1, 1), stride=(2, 2), bias=False)\n",
       "        (1): BatchNorm2d(512, eps=1e-05, momentum=0.1, affine=True, track_running_stats=True)\n",
       "      )\n",
       "    )\n",
       "    (1): BasicBlock(\n",
       "      (conv1): Conv2d(512, 512, kernel_size=(3, 3), stride=(1, 1), padding=(1, 1), bias=False)\n",
       "      (bn1): BatchNorm2d(512, eps=1e-05, momentum=0.1, affine=True, track_running_stats=True)\n",
       "      (relu): ReLU(inplace=True)\n",
       "      (conv2): Conv2d(512, 512, kernel_size=(3, 3), stride=(1, 1), padding=(1, 1), bias=False)\n",
       "      (bn2): BatchNorm2d(512, eps=1e-05, momentum=0.1, affine=True, track_running_stats=True)\n",
       "    )\n",
       "  )\n",
       "  (avgpool): AdaptiveAvgPool2d(output_size=(1, 1))\n",
       "  (fc): Sequential(\n",
       "    (0): Linear(in_features=512, out_features=256, bias=True)\n",
       "    (1): ReLU(inplace=True)\n",
       "    (2): Dropout(p=0.3, inplace=False)\n",
       "    (3): Linear(in_features=256, out_features=43, bias=True)\n",
       "  )\n",
       ")"
      ]
     },
     "execution_count": 4,
     "metadata": {},
     "output_type": "execute_result"
    }
   ],
   "source": [
    "import os, argparse, random, math\n",
    "import numpy as np\n",
    "from torch.utils.data import DataLoader, random_split\n",
    "from torch.optim import AdamW\n",
    "from torch.optim.lr_scheduler import CosineAnnealingLR\n",
    "from tqdm import tqdm\n",
    "\n",
    "def set_seed(seed=42):\n",
    "    random.seed(seed); np.random.seed(seed); torch.manual_seed(seed); torch.cuda.manual_seed_all(seed)\n",
    "    torch.backends.cudnn.deterministic = True; torch.backends.cudnn.benchmark = False\n",
    "\n",
    "@torch.no_grad()\n",
    "def evaluate(model, loader, device):\n",
    "    model.eval()\n",
    "    total, correct, loss_sum = 0, 0 , 0.0\n",
    "    criterion = nn.CrossEntropyLoss()\n",
    "    for x, y in loader:\n",
    "        x, y = x.to(device), y.to(device)\n",
    "        logits = model(x)\n",
    "        loss = criterion(logits, y)\n",
    "        loss_sum  += loss.item() * x.size(0)\n",
    "        pred= logits.argmax(1)\n",
    "        correct += (pred == y).sum().item()\n",
    "        total += x.size(0)\n",
    "    return loss_sum / total, correct/ total\n",
    "\n",
    "root_dir = \"/kaggle/input/gtsrb-german-traffic-sign\"\n",
    "train_csv = os.path.join(root_dir, \"Train.csv\")\n",
    "test_csv = os.path.join(root_dir, \"Test.csv\")\n",
    "img_size = IMG_SIZE\n",
    "epochs = 10\n",
    "batch_size = 64\n",
    "lr = 3e-4\n",
    "train_ds = GTSRBDataset(train_csv, root_dir, img_size, is_train= True)\n",
    "val_ds = GTSRBDataset(test_csv, root_dir, img_size, is_train= False)\n",
    "\n",
    "train_loader = DataLoader(train_ds, batch_size=batch_size, shuffle=True, num_workers=2, pin_memory=True)\n",
    "val_loader = DataLoader(val_ds, batch_size=batch_size, shuffle=False, num_workers=2, pin_memory=True)\n",
    "\n",
    "\n",
    "device = 'cuda' if torch.cuda.is_available() else 'cpu'\n",
    "model = build_model(pretrained=True).to(device)\n",
    "\n",
    "optimizer = AdamW(model.parameters(), lr=lr, weight_decay=1e-4)\n",
    "scheduler = CosineAnnealingLR(optimizer, T_max=epochs)\n",
    "scaler = torch.cuda.amp.GradScaler() if device=='cuda' else None\n",
    "criterion = nn.CrossEntropyLoss()\n",
    "\n",
    "model"
   ]
  },
  {
   "cell_type": "code",
   "execution_count": 5,
   "id": "55cc755e",
   "metadata": {
    "execution": {
     "iopub.execute_input": "2025-09-14T14:22:47.602919Z",
     "iopub.status.busy": "2025-09-14T14:22:47.602325Z",
     "iopub.status.idle": "2025-09-14T14:44:29.906451Z",
     "shell.execute_reply": "2025-09-14T14:44:29.905479Z"
    },
    "papermill": {
     "duration": 1302.740086,
     "end_time": "2025-09-14T14:44:30.339434",
     "exception": false,
     "start_time": "2025-09-14T14:22:47.599348",
     "status": "completed"
    },
    "tags": []
   },
   "outputs": [
    {
     "name": "stderr",
     "output_type": "stream",
     "text": [
      "Epoch 1/10:   0%|          | 0/613 [00:00<?, ?it/s]/tmp/ipykernel_19/1979612970.py:17: FutureWarning: `torch.cuda.amp.autocast(args...)` is deprecated. Please use `torch.amp.autocast('cuda', args...)` instead.\n",
      "  with torch.cuda.amp.autocast():\n",
      "Epoch 1/10: 100%|██████████| 613/613 [03:19<00:00,  3.07it/s, loss=0.571]\n"
     ]
    },
    {
     "name": "stdout",
     "output_type": "stream",
     "text": [
      "[Val] loss=0.1125 acc=0.9699\n",
      "Saved best to models/best.pt (acc=0.9699)\n"
     ]
    },
    {
     "name": "stderr",
     "output_type": "stream",
     "text": [
      "Epoch 2/10: 100%|██████████| 613/613 [01:34<00:00,  6.51it/s, loss=0.141]\n"
     ]
    },
    {
     "name": "stdout",
     "output_type": "stream",
     "text": [
      "[Val] loss=0.1421 acc=0.9572\n"
     ]
    },
    {
     "name": "stderr",
     "output_type": "stream",
     "text": [
      "Epoch 3/10: 100%|██████████| 613/613 [01:37<00:00,  6.32it/s, loss=0.103]\n"
     ]
    },
    {
     "name": "stdout",
     "output_type": "stream",
     "text": [
      "[Val] loss=0.1076 acc=0.9709\n",
      "Saved best to models/best.pt (acc=0.9709)\n"
     ]
    },
    {
     "name": "stderr",
     "output_type": "stream",
     "text": [
      "Epoch 4/10: 100%|██████████| 613/613 [01:25<00:00,  7.15it/s, loss=0.0913]\n"
     ]
    },
    {
     "name": "stdout",
     "output_type": "stream",
     "text": [
      "[Val] loss=0.1034 acc=0.9713\n",
      "Saved best to models/best.pt (acc=0.9713)\n"
     ]
    },
    {
     "name": "stderr",
     "output_type": "stream",
     "text": [
      "Epoch 5/10: 100%|██████████| 613/613 [01:30<00:00,  6.77it/s, loss=0.067]\n"
     ]
    },
    {
     "name": "stdout",
     "output_type": "stream",
     "text": [
      "[Val] loss=0.1318 acc=0.9694\n"
     ]
    },
    {
     "name": "stderr",
     "output_type": "stream",
     "text": [
      "Epoch 6/10: 100%|██████████| 613/613 [01:32<00:00,  6.60it/s, loss=0.0577]\n"
     ]
    },
    {
     "name": "stdout",
     "output_type": "stream",
     "text": [
      "[Val] loss=0.1268 acc=0.9729\n",
      "Saved best to models/best.pt (acc=0.9729)\n"
     ]
    },
    {
     "name": "stderr",
     "output_type": "stream",
     "text": [
      "Epoch 7/10: 100%|██████████| 613/613 [01:39<00:00,  6.19it/s, loss=0.0458]\n"
     ]
    },
    {
     "name": "stdout",
     "output_type": "stream",
     "text": [
      "[Val] loss=0.1218 acc=0.9749\n",
      "Saved best to models/best.pt (acc=0.9749)\n"
     ]
    },
    {
     "name": "stderr",
     "output_type": "stream",
     "text": [
      "Epoch 8/10: 100%|██████████| 613/613 [01:34<00:00,  6.47it/s, loss=0.0384]\n"
     ]
    },
    {
     "name": "stdout",
     "output_type": "stream",
     "text": [
      "[Val] loss=0.1371 acc=0.9733\n"
     ]
    },
    {
     "name": "stderr",
     "output_type": "stream",
     "text": [
      "Epoch 9/10: 100%|██████████| 613/613 [01:29<00:00,  6.83it/s, loss=0.0427]\n"
     ]
    },
    {
     "name": "stdout",
     "output_type": "stream",
     "text": [
      "[Val] loss=0.1466 acc=0.9733\n"
     ]
    },
    {
     "name": "stderr",
     "output_type": "stream",
     "text": [
      "Epoch 10/10: 100%|██████████| 613/613 [01:32<00:00,  6.66it/s, loss=0.0299]\n"
     ]
    },
    {
     "name": "stdout",
     "output_type": "stream",
     "text": [
      "[Val] loss=0.1480 acc=0.9741\n",
      "Best Acc: 0.9749 at epoch 7\n"
     ]
    }
   ],
   "source": [
    "from pathlib import Path\n",
    "MODEL_PATH = Path(\"models\")\n",
    "MODEL_PATH.mkdir(parents=True, # create parent directories if needed\n",
    "                 exist_ok=True # if models directory already exists, don't error\n",
    ")\n",
    "best_acc, best_ep = 0.0, -1\n",
    "out = MODEL_PATH / 'best.pt'\n",
    "backbone = 'resnet18'\n",
    "for epoch in range(1, epochs+1):\n",
    "    model.train()\n",
    "    pbar = tqdm(train_loader, desc=f\"Epoch {epoch}/{epochs}\")\n",
    "    running_loss = 0.0\n",
    "    for x, y in pbar:\n",
    "        x, y = x.to(device), y.to(device)\n",
    "        optimizer.zero_grad(set_to_none=True)\n",
    "        if scaler:\n",
    "            with torch.cuda.amp.autocast():\n",
    "                logits = model(x)\n",
    "                loss = criterion(logits, y)\n",
    "            scaler.scale(loss).backward()\n",
    "            scaler.step(optimizer)\n",
    "            scaler.update()\n",
    "        else:\n",
    "            logits = model(x)\n",
    "            loss = criterion(logits, y)\n",
    "            loss.backward()\n",
    "            optimizer.step()\n",
    "        running_loss += loss.item() * x.size(0)\n",
    "        pbar.set_postfix(loss=running_loss/((pbar.n+1)*x.size(0)))\n",
    "\n",
    "    scheduler.step()\n",
    "    val_loss, val_acc = evaluate(model, val_loader, device)\n",
    "    print(f\"[Val] loss={val_loss:.4f} acc={val_acc:.4f}\")\n",
    "\n",
    "    if val_acc > best_acc:\n",
    "        best_acc, best_ep = val_acc, epoch\n",
    "        torch.save({'model': model.state_dict(),\n",
    "                    'backbone': backbone,\n",
    "                    'img_size': img_size}, out)\n",
    "        print(f\"Saved best to {out} (acc={best_acc:.4f})\")\n",
    "\n",
    "print(f\"Best Acc: {best_acc:.4f} at epoch {best_ep}\")"
   ]
  },
  {
   "cell_type": "code",
   "execution_count": 6,
   "id": "26279f13",
   "metadata": {
    "execution": {
     "iopub.execute_input": "2025-09-14T14:44:31.079739Z",
     "iopub.status.busy": "2025-09-14T14:44:31.079447Z",
     "iopub.status.idle": "2025-09-14T14:44:54.667189Z",
     "shell.execute_reply": "2025-09-14T14:44:54.666419Z"
    },
    "papermill": {
     "duration": 23.958705,
     "end_time": "2025-09-14T14:44:54.668873",
     "exception": false,
     "start_time": "2025-09-14T14:44:30.710168",
     "status": "completed"
    },
    "tags": []
   },
   "outputs": [
    {
     "name": "stdout",
     "output_type": "stream",
     "text": [
      "              precision    recall  f1-score   support\n",
      "\n",
      "           0     1.0000    1.0000    1.0000        60\n",
      "           1     0.9972    1.0000    0.9986       720\n",
      "           2     0.9973    0.9987    0.9980       750\n",
      "           3     0.9977    0.9778    0.9877       450\n",
      "           4     0.9970    0.9970    0.9970       660\n",
      "           5     0.9559    0.9984    0.9767       630\n",
      "           6     1.0000    0.9067    0.9510       150\n",
      "           7     0.9846    0.9956    0.9901       450\n",
      "           8     0.9977    0.9778    0.9877       450\n",
      "           9     1.0000    1.0000    1.0000       480\n",
      "          10     1.0000    1.0000    1.0000       660\n",
      "          11     0.9976    1.0000    0.9988       420\n",
      "          12     1.0000    1.0000    1.0000       690\n",
      "          13     0.9986    0.9972    0.9979       720\n",
      "          14     1.0000    1.0000    1.0000       270\n",
      "          15     1.0000    0.9952    0.9976       210\n",
      "          16     1.0000    1.0000    1.0000       150\n",
      "          17     1.0000    0.9944    0.9972       360\n",
      "          18     1.0000    0.9974    0.9987       390\n",
      "          19     0.6000    1.0000    0.7500        60\n",
      "          20     1.0000    0.5667    0.7234        90\n",
      "          21     1.0000    1.0000    1.0000        90\n",
      "          22     1.0000    0.7667    0.8679       120\n",
      "          23     0.9804    1.0000    0.9901       150\n",
      "          24     0.8333    1.0000    0.9091        90\n",
      "          25     0.9446    0.9938    0.9685       480\n",
      "          26     1.0000    0.9778    0.9888       180\n",
      "          27     0.9773    0.7167    0.8269        60\n",
      "          28     1.0000    1.0000    1.0000       150\n",
      "          29     1.0000    1.0000    1.0000        90\n",
      "          30     0.9934    1.0000    0.9967       150\n",
      "          31     1.0000    1.0000    1.0000       270\n",
      "          32     1.0000    1.0000    1.0000        60\n",
      "          33     0.9719    0.8238    0.8918       210\n",
      "          34     0.7484    0.9667    0.8436       120\n",
      "          35     0.9920    0.9590    0.9752       390\n",
      "          36     0.8205    0.5333    0.6465       120\n",
      "          37     0.4273    0.7833    0.5529        60\n",
      "          38     0.9408    0.9899    0.9647       690\n",
      "          39     0.8833    0.5889    0.7067        90\n",
      "          40     1.0000    0.8889    0.9412        90\n",
      "          41     0.9375    1.0000    0.9677        60\n",
      "          42     0.9783    1.0000    0.9890        90\n",
      "\n",
      "    accuracy                         0.9749     12630\n",
      "   macro avg     0.9524    0.9393    0.9390     12630\n",
      "weighted avg     0.9788    0.9749    0.9747     12630\n",
      "\n",
      "Saved confusion_matrix.png\n"
     ]
    },
    {
     "data": {
      "image/png": "[encoded data removed]",
      "text/plain": [
       "<Figure size 1000x1000 with 2 Axes>"
      ]
     },
     "metadata": {},
     "output_type": "display_data"
    }
   ],
   "source": [
    "from sklearn.metrics import classification_report, confusion_matrix\n",
    "import numpy as np\n",
    "import matplotlib.pyplot as plt\n",
    "\n",
    "model = build_model(pretrained=False).to(device)\n",
    "model.load_state_dict(torch.load('models/best.pt')['model'])\n",
    "\n",
    "@torch.no_grad()\n",
    "def collect_preds(model, loader, device):\n",
    "    model.eval()\n",
    "    y_true, y_pred = [], []\n",
    "    for x, y in loader:\n",
    "        x = x.to(device)\n",
    "        logits = model(x)\n",
    "        pred = logits.argmax(1).cpu().numpy()\n",
    "        y_pred.append(pred)\n",
    "        y_true.append(y.numpy())\n",
    "    return np.concatenate(y_true), np.concatenate(y_pred)\n",
    "\n",
    "def plot_cm(cm, classes=43, save_path='confusion_matrix.png'):\n",
    "    plt.figure(figsize=(10,10))\n",
    "    plt.imshow(cm, interpolation='nearest')\n",
    "    plt.title('Confusion Matrix'); plt.colorbar()\n",
    "    ticks = np.arange(classes)\n",
    "    plt.xticks(ticks, ticks, rotation=90); plt.yticks(ticks, ticks)\n",
    "    plt.tight_layout()\n",
    "    plt.xlabel('Predicted'); plt.ylabel('True')\n",
    "    plt.savefig(save_path, dpi=200)\n",
    "    print(f\"Saved {save_path}\")\n",
    "    \n",
    "\n",
    "y_true, y_pred = collect_preds(model, val_loader, device)\n",
    "print(classification_report(y_true, y_pred, digits=4))\n",
    "cm = confusion_matrix(y_true, y_pred)\n",
    "plot_cm(cm, classes=43)"
   ]
  },
  {
   "cell_type": "code",
   "execution_count": null,
   "id": "45405a26",
   "metadata": {
    "papermill": {
     "duration": 0.374657,
     "end_time": "2025-09-14T14:44:55.484046",
     "exception": false,
     "start_time": "2025-09-14T14:44:55.109389",
     "status": "completed"
    },
    "tags": []
   },
   "outputs": [],
   "source": []
  }
 ],
 "metadata": {
  "kaggle": {
   "accelerator": "gpu",
   "dataSources": [
    {
     "datasetId": 82373,
     "sourceId": 191501,
     "sourceType": "datasetVersion"
    }
   ],
   "dockerImageVersionId": 31090,
   "isGpuEnabled": true,
   "isInternetEnabled": true,
   "language": "python",
   "sourceType": "notebook"
  },
  "kernelspec": {
   "display_name": "Python 3",
   "language": "python",
   "name": "python3"
  },
  "language_info": {
   "codemirror_mode": {
    "name": "ipython",
    "version": 3
   },
   "file_extension": ".py",
   "mimetype": "text/x-python",
   "name": "python",
   "nbconvert_exporter": "python",
   "pygments_lexer": "ipython3",
   "version": "3.11.13"
  },
  "papermill": {
   "default_parameters": {},
   "duration": 1351.334037,
   "end_time": "2025-09-14T14:44:58.624093",
   "environment_variables": {},
   "exception": null,
   "input_path": "__notebook__.ipynb",
   "output_path": "__notebook__.ipynb",
   "parameters": {},
   "start_time": "2025-09-14T14:22:27.290056",
   "version": "2.6.0"
  }
 },
 "nbformat": 4,
 "nbformat_minor": 5
}
